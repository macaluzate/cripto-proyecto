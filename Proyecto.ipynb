{
 "cells": [
  {
   "cell_type": "markdown",
   "id": "859babec-0d84-4c1a-a8b0-c1beaacd004b",
   "metadata": {},
   "source": [
    "# Parte I\n",
    "\n",
    "**Campos finitos**\n",
    "- Definición de campo finito  \n",
    "- Campo finito $ GF(p) $  \n",
    "- El campo finito $ GF(2^m) $ \n",
    "\n",
    "**Curvas elípticas**\n",
    "- Curvas elípticas sobre $GF(p)$  \n",
    "- Curvas elípticas sobre $ GF(2^m)$  \n",
    "- Aritmética de puntos en curvas elípticas  \n",
    "- Logaritmo discreto sobre curvas elípticas  \n"
   ]
  },
  {
   "cell_type": "markdown",
   "id": "662fda57-f69d-49c9-9c90-569d196b8a07",
   "metadata": {},
   "source": [
    "Un **campo finito** consiste en un conjunto finito de elementos $ F $ sobre el cual se definen un par de operaciones binarias $ + $ y $ \\cdot $, las cuales satisfacen las siguientes propiedades aritméticas:\n",
    "\n",
    "1. $(F, +)$ es un grupo abeliano, denominado el **grupo aditivo** del campo.\n",
    "2. $(F^* = F - 0, \\cdot)$ es un grupo abeliano, al que se denomina **grupo multiplicativo** del campo.\n",
    "3. El producto tiene la propiedad **distributiva** respecto de la suma, esto es,\n",
    "   $\n",
    "   a \\cdot (b + c) = a \\cdot b + a \\cdot c.\n",
    "   $\n"
   ]
  },
  {
   "cell_type": "markdown",
   "id": "f94c12dd-dc3e-40d6-9dc3-8582248ce945",
   "metadata": {},
   "source": [
    "El **orden** de un campo finito es el número de elementos en el campo. Existe un campo finito de orden $ q $ si y solo si $ q $ es la potencia de un número primo. Si $ q $ es la potencia de un primo, existe esencialmente un solo campo finito de orden $ q $ al cual denotaremos como $ GF(q) $.\n"
   ]
  },
  {
   "cell_type": "markdown",
   "id": "4fc26de6-83f2-45f4-ae8a-5769d461cc3b",
   "metadata": {},
   "source": [
    "### El campo finito $ GF(p) $\n",
    "\n",
    "Sea $ p $ un número primo. El campo $ GF(p) $, denominado un **campo primo**, está compuesto por el conjunto de enteros $ \\{ 0, 1, \\dots, p-1 \\} $ con las siguientes operaciones aritméticas:\n",
    "\n",
    "- **Adición**: Si $ a, b \\in GF(p) $, entonces $ a + b = r $, donde $ r $ es el residuo de la división de $ a + b $ entre $ p $, $ 0 \\leq r \\leq p - 1 $. Esta operación es conocida como la **suma módulo $ p $**.\n",
    "\n",
    "- **Multiplicación**: Si $ a, b \\in GF(p) $, entonces $ a \\cdot b = s $, donde $ s $ es el residuo de la división de $ a \\cdot b $ entre $ p $. A esta operación se le conoce como **multiplicación módulo $ p $**.\n",
    "\n",
    "- **Inversión**: Si $ a \\in GF(p) $ diferente de cero, el **inverso** de $ a $ módulo $ p $, denotado como $ a^{-1} $, es el entero único $ c \\in GF(p) $ tal que $ a \\cdot c = 1 $.\n"
   ]
  },
  {
   "cell_type": "markdown",
   "id": "09cab28c-78ee-486c-be34-1dbd5db28fb6",
   "metadata": {},
   "source": [
    "### Ejemplo 1:\n",
    " El campo finito $ GF(23) $. Los elementos de $ GF(23) $ son\n",
    "$$\n",
    "\\{ 0, 1, 2, \\dots, 22 \\}\n",
    "$$\n",
    "\n",
    "Ejemplos de operaciones aritméticas sobre $ GF(23) $ son:\n",
    "\n",
    "-  $ 12 + 20 = 9 $\n",
    "- $ 8 \\cdot 9 = 3 $\n",
    "- $ 8^{-1} = 3 $\n",
    "\n",
    "El elemento 5 es un generador de $ GF(23) $. Las potencias de 5 son:\n",
    "\n",
    "$$\n",
    "5^0 = 1 \\quad 5^1 = 5 \\quad 5^2 = 25 \\quad 5^3 = 10 \\quad 5^4 = 4 \\quad 5^5 = 20\n",
    "$$\n",
    "$$\n",
    "5^6 = 8 \\quad 5^7 = 17 \\quad 5^8 = 16 \\quad 5^9 = 5 \\quad 5^{11} = 22\n",
    "$$\n",
    "$$\n",
    "5^{12} = 18 \\quad 5^{13} = 21 \\quad 5^{14} = 13 \\quad 5^{15} = 19 \\quad 5^{16} = 3\n",
    "$$\n",
    "$$\n",
    "5^{17} = 15 \\quad 5^{19} = 7 \\quad 5^{20} = 12 \\quad 5^{21} = 14 \\quad 5^{22} = 1\n",
    "$$\n"
   ]
  },
  {
   "cell_type": "markdown",
   "id": "403f0c9e-a557-4aaa-8158-58a09e788273",
   "metadata": {},
   "source": [
    "### El campo finito $ GF(2^m) $\n",
    "\n",
    "El campo $ GF(2^m) $, denominado un campo finito de característica dos o campo finito binario, puede ser visto como un espacio vectorial de dimensión $ m $ sobre el campo $ GF(2) $. Esto es, existen $ m $ elementos $ \\alpha_0, \\alpha_1, \\dots, \\alpha_{m-1} $ en $ GF(2^m) $ tales que cada elemento $ \\alpha \\in GF(2^m) $ puede ser escrito en forma única como:\n",
    "\n",
    "$$\n",
    "\\alpha = a_0 \\alpha_0 + a_1 \\alpha_1 + \\cdots + a_{m-1} \\alpha_{m-1},\n",
    "$$\n",
    "\n",
    "donde $ a_i \\in \\{ 0, 1 \\} $.\n"
   ]
  },
  {
   "cell_type": "markdown",
   "id": "e4cd4d36-b508-4ee3-8ba2-3d4a50ec85bc",
   "metadata": {},
   "source": [
    "Al conjunto $ \\{ \\alpha_0, \\alpha_1, \\dots, \\alpha_{m-1} \\} $ se le denomina una **base** de $ GF(2^m) $ sobre $ GF(2) $. Dada una base tal, un elemento $ \\alpha $ del campo puede ser representado por la cadena de bits $ (a_0 a_1 \\dots a_{m-1}) $. La adición de elementos en el campo se realiza mediante el **XOR** bit a bit de sus representaciones vectoriales.\n"
   ]
  },
  {
   "cell_type": "code",
   "execution_count": null,
   "id": "07cb6b7b-7cbf-4784-bd64-237056fb2e8c",
   "metadata": {},
   "outputs": [],
   "source": []
  },
  {
   "cell_type": "markdown",
   "id": "2064aae1-3e1b-400d-a329-946a7a10b705",
   "metadata": {},
   "source": [
    "### Curvas elípticas sobre $ GF(p) $\n",
    "\n",
    "Sea $ GF(p) $ un campo finito de característica $ p \\neq 2, 3 $, y sean $ a, b \\in GF(p) $ tales que satisfacen la desigualdad $ 4a^3 + 27b^2 \\neq 0 $. Una **curva elíptica** $ E_{a,b} $ sobre $ GF(p) $ se define como el conjunto de puntos $ (x, y) \\in GF(p) \\times GF(p) $ que satisfacen la ecuación\n",
    "\n",
    "$$\n",
    "y^2 = x^3 + ax + b\n",
    "$$\n",
    "\n",
    "junto con un punto especial $ \\mathcal{O} $, denominado el **punto al infinito**. Estos puntos forman un grupo abeliano bajo la operación aditiva que describiremos a continuación.\n"
   ]
  },
  {
   "cell_type": "markdown",
   "id": "83d895dd-8002-4c22-915b-ea78bab6cb6e",
   "metadata": {},
   "source": [
    "![Curva Elíptica](https://upload.wikimedia.org/wikipedia/commons/thumb/d/d0/ECClines-3.svg/335px-ECClines-3.svg.png)\n"
   ]
  },
  {
   "cell_type": "markdown",
   "id": "49329c76-1a23-49d7-a4d3-1682bac136eb",
   "metadata": {},
   "source": []
  },
  {
   "cell_type": "code",
   "execution_count": 3,
   "id": "33c78c4e-c159-4e93-868e-593e3a6a3c2e",
   "metadata": {},
   "outputs": [],
   "source": [
    "def add_points(P, Q, p, a, b):\n",
    "    # Desempaquetamos las coordenadas de P y Q\n",
    "    x1, y1 = P\n",
    "    x2, y2 = Q\n",
    "    \n",
    "    # Verificamos si P y Q son iguales (caso de duplicación del punto)\n",
    "    if x1 == x2 and y1 == y2:\n",
    "        # Fórmula de la derivada para calcular la pendiente (beta) cuando los puntos son iguales\n",
    "        beta = (3 * x1**2 + a) * pow(2 * y1, -1, p) % p\n",
    "    else:\n",
    "        # Fórmula de la pendiente cuando los puntos son diferentes\n",
    "        beta = (y2 - y1) * pow(x2 - x1, -1, p) % p\n",
    "\n",
    "    # Calculamos las nuevas coordenadas del punto resultante (x3, y3)\n",
    "    x3 = (beta**2 - x1 - x2) % p\n",
    "    y3 = (beta * (x1 - x3) - y1) % p\n",
    "    \n",
    "    return x3, y3\n",
    "\n",
    "def is_on_curve(P, mod, a, b):\n",
    "    # Verificamos si el punto P está sobre la curva elíptica\n",
    "    x, y = P\n",
    "    assert (y**2 % p == (x**3 + a*x + b) % p), \"El punto no está sobre la curva\"\n",
    "    return True\n"
   ]
  },
  {
   "cell_type": "markdown",
   "id": "d5fd456e-4454-4cf8-8996-68dae57f82f7",
   "metadata": {},
   "source": [
    "![!DHEC](https://i0.wp.com/sefiks.com/wp-content/uploads/2016/04/ecdh.png?resize=334%2C257&ssl=1)"
   ]
  },
  {
   "cell_type": "code",
   "execution_count": 13,
   "id": "cc98f561-b73d-476c-8dcc-cab5177cddd5",
   "metadata": {},
   "outputs": [],
   "source": [
    "\n",
    "#Curva\n",
    "# y^2 = x^3 + a*x + b = y^2 = x^3 + 7\n",
    "a = 0; b = 7\n",
    " \n",
    "#base point\n",
    "P = (55066263022277343669578718895168534326250603453777594175500187360389116729240,\n",
    "     32670510020758816978083085130507043184471273380659243275938904335757337482424)\n",
    "\n",
    "#finite field\n",
    "mod = pow(2, 256) - pow(2, 32) - pow(2, 9) - pow(2, 8) - pow(2, 7) - pow(2, 6) - pow(2, 4) - pow(2, 0)\n",
    "order = 115792089237316195423570985008687907852837564279074904382605163141518161494337"
   ]
  },
  {
   "cell_type": "code",
   "execution_count": 14,
   "id": "d5d903fc-acfb-45b5-a197-e800f1615a10",
   "metadata": {},
   "outputs": [
    {
     "data": {
      "text/plain": [
       "True"
      ]
     },
     "execution_count": 14,
     "metadata": {},
     "output_type": "execute_result"
    }
   ],
   "source": [
    "is_on_curve(P,mod,a,b)"
   ]
  },
  {
   "cell_type": "code",
   "execution_count": null,
   "id": "1366369d-361c-477b-b597-bc3415be077f",
   "metadata": {},
   "outputs": [],
   "source": []
  },
  {
   "cell_type": "code",
   "execution_count": null,
   "id": "ab490e27-99b0-4f2b-a1ec-3725eb958be0",
   "metadata": {},
   "outputs": [],
   "source": []
  }
 ],
 "metadata": {
  "kernelspec": {
   "display_name": "Python 3 (ipykernel)",
   "language": "python",
   "name": "python3"
  },
  "language_info": {
   "codemirror_mode": {
    "name": "ipython",
    "version": 3
   },
   "file_extension": ".py",
   "mimetype": "text/x-python",
   "name": "python",
   "nbconvert_exporter": "python",
   "pygments_lexer": "ipython3",
   "version": "3.13.1"
  }
 },
 "nbformat": 4,
 "nbformat_minor": 5
}
