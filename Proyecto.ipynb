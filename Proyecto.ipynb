{
  "cells": [
    {
      "cell_type": "markdown",
      "id": "859babec-0d84-4c1a-a8b0-c1beaacd004b",
      "metadata": {
        "id": "859babec-0d84-4c1a-a8b0-c1beaacd004b"
      },
      "source": [
        "# Parte I\n",
        "\n",
        "**Campos finitos**\n",
        "- Definición de campo finito  \n",
        "- Campo finito $ GF(p) $  \n",
        "- El campo finito $ GF(2^m) $\n",
        "\n",
        "**Curvas elípticas**\n",
        "- Curvas elípticas sobre $GF(p)$  \n",
        "- Curvas elípticas sobre $ GF(2^m)$  \n",
        "- Aritmética de puntos en curvas elípticas  \n",
        "- Logaritmo discreto sobre curvas elípticas  \n"
      ]
    },
    {
      "cell_type": "markdown",
      "id": "662fda57-f69d-49c9-9c90-569d196b8a07",
      "metadata": {
        "id": "662fda57-f69d-49c9-9c90-569d196b8a07"
      },
      "source": [
        "Un **campo finito** consiste en un conjunto finito de elementos $ F $ sobre el cual se definen un par de operaciones binarias $ + $ y $ \\cdot $, las cuales satisfacen las siguientes propiedades aritméticas:\n",
        "\n",
        "1. $(F, +)$ es un grupo abeliano, denominado el **grupo aditivo** del campo.\n",
        "2. $(F^* = F - 0, \\cdot)$ es un grupo abeliano, al que se denomina **grupo multiplicativo** del campo.\n",
        "3. El producto tiene la propiedad **distributiva** respecto de la suma, esto es,\n",
        "   $\n",
        "   a \\cdot (b + c) = a \\cdot b + a \\cdot c.\n",
        "   $\n"
      ]
    },
    {
      "cell_type": "markdown",
      "id": "f94c12dd-dc3e-40d6-9dc3-8582248ce945",
      "metadata": {
        "id": "f94c12dd-dc3e-40d6-9dc3-8582248ce945"
      },
      "source": [
        "El **orden** de un campo finito es el número de elementos en el campo. Existe un campo finito de orden $ q $ si y solo si $ q $ es la potencia de un número primo. Si $ q $ es la potencia de un primo, existe esencialmente un solo campo finito de orden $ q $ al cual denotaremos como $ GF(q) $.\n"
      ]
    },
    {
      "cell_type": "markdown",
      "id": "4fc26de6-83f2-45f4-ae8a-5769d461cc3b",
      "metadata": {
        "id": "4fc26de6-83f2-45f4-ae8a-5769d461cc3b"
      },
      "source": [
        "### El campo finito $ GF(p) $\n",
        "\n",
        "Sea $ p $ un número primo. El campo $ GF(p) $, denominado un **campo primo**, está compuesto por el conjunto de enteros $ \\{ 0, 1, \\dots, p-1 \\} $ con las siguientes operaciones aritméticas:\n",
        "\n",
        "- **Adición**: Si $ a, b \\in GF(p) $, entonces $ a + b = r $, donde $ r $ es el residuo de la división de $ a + b $ entre $ p $, $ 0 \\leq r \\leq p - 1 $. Esta operación es conocida como la **suma módulo $ p $**.\n",
        "\n",
        "- **Multiplicación**: Si $ a, b \\in GF(p) $, entonces $ a \\cdot b = s $, donde $ s $ es el residuo de la división de $ a \\cdot b $ entre $ p $. A esta operación se le conoce como **multiplicación módulo $ p $**.\n",
        "\n",
        "- **Inversión**: Si $ a \\in GF(p) $ diferente de cero, el **inverso** de $ a $ módulo $ p $, denotado como $ a^{-1} $, es el entero único $ c \\in GF(p) $ tal que $ a \\cdot c = 1 $.\n"
      ]
    },
    {
      "cell_type": "markdown",
      "id": "09cab28c-78ee-486c-be34-1dbd5db28fb6",
      "metadata": {
        "id": "09cab28c-78ee-486c-be34-1dbd5db28fb6"
      },
      "source": [
        "### Ejemplo 1:\n",
        " El campo finito $ GF(23) $. Los elementos de $ GF(23) $ son\n",
        "$$\n",
        "\\{ 0, 1, 2, \\dots, 22 \\}\n",
        "$$\n",
        "\n",
        "Ejemplos de operaciones aritméticas sobre $ GF(23) $ son:\n",
        "\n",
        "-  $ 12 + 20 = 9 $\n",
        "- $ 8 \\cdot 9 = 3 $\n",
        "- $ 8^{-1} = 3 $\n",
        "\n",
        "El elemento 5 es un generador de $ GF(23) $. Las potencias de 5 son:\n",
        "\n",
        "$$\n",
        "5^0 = 1 \\quad 5^1 = 5 \\quad 5^2 = 25 \\quad 5^3 = 10 \\quad 5^4 = 4 \\quad 5^5 = 20\n",
        "$$\n",
        "$$\n",
        "5^6 = 8 \\quad 5^7 = 17 \\quad 5^8 = 16 \\quad 5^9 = 5 \\quad 5^{11} = 22\n",
        "$$\n",
        "$$\n",
        "5^{12} = 18 \\quad 5^{13} = 21 \\quad 5^{14} = 13 \\quad 5^{15} = 19 \\quad 5^{16} = 3\n",
        "$$\n",
        "$$\n",
        "5^{17} = 15 \\quad 5^{19} = 7 \\quad 5^{20} = 12 \\quad 5^{21} = 14 \\quad 5^{22} = 1\n",
        "$$\n"
      ]
    },
    {
      "cell_type": "markdown",
      "id": "403f0c9e-a557-4aaa-8158-58a09e788273",
      "metadata": {
        "id": "403f0c9e-a557-4aaa-8158-58a09e788273"
      },
      "source": [
        "### El campo finito $ GF(2^m) $\n",
        "\n",
        "El campo $ GF(2^m) $, denominado un campo finito de característica dos o campo finito binario, puede ser visto como un espacio vectorial de dimensión $ m $ sobre el campo $ GF(2) $. Esto es, existen $ m $ elementos $ \\alpha_0, \\alpha_1, \\dots, \\alpha_{m-1} $ en $ GF(2^m) $ tales que cada elemento $ \\alpha \\in GF(2^m) $ puede ser escrito en forma única como:\n",
        "\n",
        "$$\n",
        "\\alpha = a_0 \\alpha_0 + a_1 \\alpha_1 + \\cdots + a_{m-1} \\alpha_{m-1},\n",
        "$$\n",
        "\n",
        "donde $ a_i \\in \\{ 0, 1 \\} $.\n"
      ]
    },
    {
      "cell_type": "markdown",
      "id": "e4cd4d36-b508-4ee3-8ba2-3d4a50ec85bc",
      "metadata": {
        "id": "e4cd4d36-b508-4ee3-8ba2-3d4a50ec85bc"
      },
      "source": [
        "Al conjunto $ \\{ \\alpha_0, \\alpha_1, \\dots, \\alpha_{m-1} \\} $ se le denomina una **base** de $ GF(2^m) $ sobre $ GF(2) $. Dada una base tal, un elemento $ \\alpha $ del campo puede ser representado por la cadena de bits $ (a_0 a_1 \\dots a_{m-1}) $. La adición de elementos en el campo se realiza mediante el **XOR** bit a bit de sus representaciones vectoriales.\n"
      ]
    },
    {
      "cell_type": "code",
      "execution_count": null,
      "id": "07cb6b7b-7cbf-4784-bd64-237056fb2e8c",
      "metadata": {
        "id": "07cb6b7b-7cbf-4784-bd64-237056fb2e8c"
      },
      "outputs": [],
      "source": []
    },
    {
      "cell_type": "markdown",
      "id": "2064aae1-3e1b-400d-a329-946a7a10b705",
      "metadata": {
        "id": "2064aae1-3e1b-400d-a329-946a7a10b705"
      },
      "source": [
        "### Curvas elípticas sobre $ GF(p) $\n",
        "\n",
        "Sea $ GF(p) $ un campo finito de característica $ p \\neq 2, 3 $, y sean $ a, b \\in GF(p) $ tales que satisfacen la desigualdad $ 4a^3 + 27b^2 \\neq 0 $. Una **curva elíptica** $ E_{a,b} $ sobre $ GF(p) $ se define como el conjunto de puntos $ (x, y) \\in GF(p) \\times GF(p) $ que satisfacen la ecuación\n",
        "\n",
        "$$\n",
        "y^2 = x^3 + ax + b\n",
        "$$\n",
        "\n",
        "junto con un punto especial $ \\mathcal{O} $, denominado el **punto al infinito**. Estos puntos forman un grupo abeliano bajo la operación aditiva que describiremos a continuación.\n"
      ]
    },
    {
      "cell_type": "markdown",
      "id": "83d895dd-8002-4c22-915b-ea78bab6cb6e",
      "metadata": {
        "id": "83d895dd-8002-4c22-915b-ea78bab6cb6e"
      },
      "source": [
        "![Curva Elíptica](https://upload.wikimedia.org/wikipedia/commons/thumb/d/d0/ECClines-3.svg/335px-ECClines-3.svg.png)\n"
      ]
    },
    {
      "cell_type": "markdown",
      "id": "49329c76-1a23-49d7-a4d3-1682bac136eb",
      "metadata": {
        "id": "49329c76-1a23-49d7-a4d3-1682bac136eb"
      },
      "source": []
    },
    {
      "cell_type": "code",
      "execution_count": null,
      "id": "33c78c4e-c159-4e93-868e-593e3a6a3c2e",
      "metadata": {
        "id": "33c78c4e-c159-4e93-868e-593e3a6a3c2e"
      },
      "outputs": [],
      "source": [
        "def add_points(P, Q, p, a, b):\n",
        "    # Desempaquetamos las coordenadas de P y Q\n",
        "    x1, y1 = P\n",
        "    x2, y2 = Q\n",
        "\n",
        "    # Verificamos si P y Q son iguales (caso de duplicación del punto)\n",
        "    if x1 == x2 and y1 == y2:\n",
        "        # Fórmula de la derivada para calcular la pendiente (beta) cuando los puntos son iguales\n",
        "        beta = (3 * x1**2 + a) * pow(2 * y1, -1, p) % p\n",
        "    else:\n",
        "        # Fórmula de la pendiente cuando los puntos son diferentes\n",
        "        beta = (y2 - y1) * pow(x2 - x1, -1, p) % p\n",
        "\n",
        "    # Calculamos las nuevas coordenadas del punto resultante (x3, y3)\n",
        "    x3 = (beta**2 - x1 - x2) % p\n",
        "    y3 = (beta * (x1 - x3) - y1) % p\n",
        "\n",
        "    return x3, y3\n",
        "\n",
        "def is_on_curve(P, mod, a, b):\n",
        "    # Verificamos si el punto P está sobre la curva elíptica\n",
        "    x, y = P1\n",
        "    assert (y**2 % mod == (x**3 + a*x + b) % mod), \"El punto no está sobre la curva\"\n",
        "    return True\n"
      ]
    },
    {
      "cell_type": "markdown",
      "id": "d5fd456e-4454-4cf8-8996-68dae57f82f7",
      "metadata": {
        "id": "d5fd456e-4454-4cf8-8996-68dae57f82f7"
      },
      "source": [
        "![!DHEC](https://i0.wp.com/sefiks.com/wp-content/uploads/2016/04/ecdh.png?resize=334%2C257&ssl=1)"
      ]
    },
    {
      "cell_type": "code",
      "execution_count": null,
      "id": "cc98f561-b73d-476c-8dcc-cab5177cddd5",
      "metadata": {
        "id": "cc98f561-b73d-476c-8dcc-cab5177cddd5"
      },
      "outputs": [],
      "source": [
        "\n",
        "#Curva\n",
        "# y^2 = x^3 + a*x + b = y^2 = x^3 + 7\n",
        "a = 0; b = 7\n",
        "\n",
        "#base point\n",
        "G = (55066263022277343669578718895168534326250603453777594175500187360389116729240,\n",
        "     32670510020758816978083085130507043184471273380659243275938904335757337482424)\n",
        "\n",
        "P1 = (3441641438892359589923750308532785224089551896647546423970081695051607104119,\n",
        " 4069236990256117999617708243952512478982953190562608787139299693752)\n",
        "P2= (89565891926547004231252920425935692360644145829622209833684329913297188986597,12158399299693830322967808612713398636155367887041628176798871954788371653930)\n",
        "#finite field\n",
        "mod = pow(2, 256) - pow(2, 32) - pow(2, 9) - pow(2, 8) - pow(2, 7) - pow(2, 6) - pow(2, 4) - pow(2, 0)\n",
        "order = 115792089237316195423570985008687907852837564279074904382605163141518161494337"
      ]
    },
    {
      "cell_type": "code",
      "execution_count": null,
      "id": "d5d903fc-acfb-45b5-a197-e800f1615a10",
      "metadata": {
        "id": "d5d903fc-acfb-45b5-a197-e800f1615a10",
        "outputId": "b7a438db-2839-46d2-8c82-d1d89167c3d2"
      },
      "outputs": [
        {
          "data": {
            "text/plain": [
              "True"
            ]
          },
          "execution_count": 60,
          "metadata": {},
          "output_type": "execute_result"
        }
      ],
      "source": [
        "is_on_curve(G,mod,a,b)"
      ]
    },
    {
      "cell_type": "code",
      "execution_count": null,
      "id": "1366369d-361c-477b-b597-bc3415be077f",
      "metadata": {
        "id": "1366369d-361c-477b-b597-bc3415be077f",
        "outputId": "ae96edd3-8b77-4c27-ab2b-9c8d326a351b"
      },
      "outputs": [
        {
          "name": "stdout",
          "output_type": "stream",
          "text": [
            "2G = (89565891926547004231252920425935692360644145829622209833684329913297188986597, 12158399299693830322967808612713398636155367887041628176798871954788371653930)\n",
            "3G = (112711660439710606056748659173929673102114977341539408544630613555209775888121, 25583027980570883691656905877401976406448868254816295069919888960541586679410)\n",
            "4G = (103388573995635080359749164254216598308788835304023601477803095234286494993683, 37057141145242123013015316630864329550140216928701153669873286428255828810018)\n",
            "5G = (21505829891763648114329055987619236494102133314575206970830385799158076338148, 98003708678762621233683240503080860129026887322874138805529884920309963580118)\n",
            "6G = (115780575977492633039504758427830329241728645270042306223540962614150928364886, 78735063515800386211891312544505775871260717697865196436804966483607426560663)\n",
            "7G = (41948375291644419605210209193538855353224492619856392092318293986323063962044, 48361766907851246668144012348516735800090617714386977531302791340517493990618)\n",
            "8G = (21262057306151627953595685090280431278183829487175876377991189246716355947009, 41749993296225487051377864631615517161996906063147759678534462689479575333124)\n",
            "9G = (78173298682877769088723994436027545680738210601369041078747105985693655485630, 92362876758821804597230797234617159328445543067760556585160674174871431781431)\n",
            "10G = (72488970228380509287422715226575535698893157273063074627791787432852706183111, 62070622898698443831883535403436258712770888294397026493185421712108624767191)\n"
          ]
        }
      ],
      "source": [
        "tmp_point = G\n",
        "for i in range(2,11):\n",
        "    tmp_point = add_points(tmp_point,G,mod,0,7)\n",
        "    print(f\"{i}G = {tmp_point}\")"
      ]
    },
    {
      "cell_type": "markdown",
      "source": [
        "La curva elíptica utilizada para los cálculos de ECDH es una curva de 256 bits llamada `brainpoolP256r1`. Las claves privadas son de 256 bits (64 dígitos hexadecimales) y se generan aleatoriamente. Las claves públicas tendrán 257 bits (65 dígitos hexadecimales), debido a la compresión de la clave.\n"
      ],
      "metadata": {
        "id": "bm3AnoNS3zuv"
      },
      "id": "bm3AnoNS3zuv"
    },
    {
      "cell_type": "code",
      "source": [
        "!pip install tinyec"
      ],
      "metadata": {
        "colab": {
          "base_uri": "https://localhost:8080/"
        },
        "id": "cE3hG6Ynywck",
        "outputId": "724cbf75-48ab-4fb4-9156-34ef39ba46ca"
      },
      "id": "cE3hG6Ynywck",
      "execution_count": 2,
      "outputs": [
        {
          "output_type": "stream",
          "name": "stdout",
          "text": [
            "Collecting tinyec\n",
            "  Downloading tinyec-0.4.0.tar.gz (24 kB)\n",
            "  Preparing metadata (setup.py) ... \u001b[?25l\u001b[?25hdone\n",
            "Building wheels for collected packages: tinyec\n",
            "  Building wheel for tinyec (setup.py) ... \u001b[?25l\u001b[?25hdone\n",
            "  Created wheel for tinyec: filename=tinyec-0.4.0-py3-none-any.whl size=20877 sha256=0234196916f51f24d761ad9227e7eb005cb4687d2594fcd536ddfa469d8b731c\n",
            "  Stored in directory: /root/.cache/pip/wheels/db/86/a7/922d884ea8657b29b0231d6566159462328473186637fcc02e\n",
            "Successfully built tinyec\n",
            "Installing collected packages: tinyec\n",
            "Successfully installed tinyec-0.4.0\n"
          ]
        }
      ]
    },
    {
      "cell_type": "code",
      "execution_count": 3,
      "id": "ab490e27-99b0-4f2b-a1ec-3725eb958be0",
      "metadata": {
        "colab": {
          "base_uri": "https://localhost:8080/"
        },
        "id": "ab490e27-99b0-4f2b-a1ec-3725eb958be0",
        "outputId": "d2cb1dd3-9437-45f2-ee3c-043a1fe2d5e5"
      },
      "outputs": [
        {
          "output_type": "stream",
          "name": "stdout",
          "text": [
            "Alice public key: 0x8cc78962896cb93f97f2e6b781157f2ffeccfba06855ca473dcb36394b08cba61\n",
            "Bob public key: 0x1513122440bacff7cc40be6de12001062520b6621d0a30ce5785f8a2e0d8f6f0\n",
            "Now exchange the public keys (e.g. through Internet)\n",
            "Alice shared key: 0x75793b42850bd7a4898dbe13a93743ab172ac31737e4b1886a0c1469b90be2ae0\n",
            "Bob shared key: 0x75793b42850bd7a4898dbe13a93743ab172ac31737e4b1886a0c1469b90be2ae0\n",
            "Equal shared keys: True\n"
          ]
        }
      ],
      "source": [
        "from tinyec import registry\n",
        "import secrets\n",
        "\n",
        "def compress(pubKey):\n",
        "    return hex(pubKey.x) + hex(pubKey.y % 2)[2:]\n",
        "\n",
        "curve = registry.get_curve('brainpoolP256r1')\n",
        "\n",
        "alicePrivKey = secrets.randbelow(curve.field.n)\n",
        "alicePubKey = alicePrivKey * curve.g\n",
        "print(\"Alice public key:\", compress(alicePubKey))\n",
        "\n",
        "bobPrivKey = secrets.randbelow(curve.field.n)\n",
        "bobPubKey = bobPrivKey * curve.g\n",
        "print(\"Bob public key:\", compress(bobPubKey))\n",
        "\n",
        "print(\"Now exchange the public keys (e.g. through Internet)\")\n",
        "\n",
        "aliceSharedKey = alicePrivKey * bobPubKey\n",
        "print(\"Alice shared key:\", compress(aliceSharedKey))\n",
        "\n",
        "bobSharedKey = bobPrivKey * alicePubKey\n",
        "print(\"Bob shared key:\", compress(bobSharedKey))\n",
        "\n",
        "print(\"Equal shared keys:\", aliceSharedKey == bobSharedKey)"
      ]
    },
    {
      "cell_type": "markdown",
      "source": [
        "Debido a la aleatorización, si ejecutas el código anterior, las claves serán diferentes, pero el secreto compartido calculado para Alice y Bob al final siempre será el mismo. El secreto compartido generado es un entero de 257 bits (punto EC comprimido para una curva de 256 bits, codificado como 65 dígitos hexadecimales).\n"
      ],
      "metadata": {
        "id": "pFECq59i53oH"
      },
      "id": "pFECq59i53oH"
    },
    {
      "cell_type": "code",
      "source": [],
      "metadata": {
        "id": "42FbXt2v3YVk"
      },
      "id": "42FbXt2v3YVk",
      "execution_count": null,
      "outputs": []
    },
    {
      "cell_type": "code",
      "execution_count": null,
      "id": "47a3a50f-7eff-4a05-bbe6-ae8ee2cb789b",
      "metadata": {
        "id": "47a3a50f-7eff-4a05-bbe6-ae8ee2cb789b"
      },
      "outputs": [],
      "source": []
    },
    {
      "cell_type": "code",
      "execution_count": null,
      "id": "6eed38c8-3eab-4886-a771-05a0a03e766d",
      "metadata": {
        "id": "6eed38c8-3eab-4886-a771-05a0a03e766d"
      },
      "outputs": [],
      "source": []
    },
    {
      "cell_type": "code",
      "execution_count": null,
      "id": "1ff1fee5-5d6c-4731-ac1d-110bdfeffc66",
      "metadata": {
        "id": "1ff1fee5-5d6c-4731-ac1d-110bdfeffc66"
      },
      "outputs": [],
      "source": []
    }
  ],
  "metadata": {
    "kernelspec": {
      "display_name": "Python 3 (ipykernel)",
      "language": "python",
      "name": "python3"
    },
    "language_info": {
      "codemirror_mode": {
        "name": "ipython",
        "version": 3
      },
      "file_extension": ".py",
      "mimetype": "text/x-python",
      "name": "python",
      "nbconvert_exporter": "python",
      "pygments_lexer": "ipython3",
      "version": "3.13.1"
    },
    "colab": {
      "provenance": []
    }
  },
  "nbformat": 4,
  "nbformat_minor": 5
}