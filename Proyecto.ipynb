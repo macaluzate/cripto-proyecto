{
  "cells": [
    {
      "cell_type": "markdown",
      "id": "859babec-0d84-4c1a-a8b0-c1beaacd004b",
      "metadata": {
        "id": "859babec-0d84-4c1a-a8b0-c1beaacd004b"
      },
      "source": [
        "# Parte I\n",
        "\n",
        "**Campos finitos**\n",
        "- Definición de campo finito  \n",
        "- Campo finito $ GF(p) $  \n",
        "- El campo finito $ GF(2^m) $\n",
        "\n",
        "**Curvas elípticas**\n",
        "- Curvas elípticas sobre $GF(p)$  \n",
        "- Curvas elípticas sobre $ GF(2^m)$  \n",
        "- Aritmética de puntos en curvas elípticas  \n",
        "- Logaritmo discreto sobre curvas elípticas  \n"
      ]
    },
    {
      "cell_type": "markdown",
      "id": "662fda57-f69d-49c9-9c90-569d196b8a07",
      "metadata": {
        "id": "662fda57-f69d-49c9-9c90-569d196b8a07"
      },
      "source": [
        "Un **campo finito** consiste en un conjunto finito de elementos $ F $ sobre el cual se definen un par de operaciones binarias $ + $ y $ \\cdot $, las cuales satisfacen las siguientes propiedades aritméticas:\n",
        "\n",
        "1. $(F, +)$ es un grupo abeliano, denominado el **grupo aditivo** del campo.\n",
        "2. $(F^* = F - 0, \\cdot)$ es un grupo abeliano, al que se denomina **grupo multiplicativo** del campo.\n",
        "3. El producto tiene la propiedad **distributiva** respecto de la suma, esto es,\n",
        "   $\n",
        "   a \\cdot (b + c) = a \\cdot b + a \\cdot c.\n",
        "   $\n"
      ]
    },
    {
      "cell_type": "markdown",
      "id": "f94c12dd-dc3e-40d6-9dc3-8582248ce945",
      "metadata": {
        "id": "f94c12dd-dc3e-40d6-9dc3-8582248ce945"
      },
      "source": [
        "El **orden** de un campo finito es el número de elementos en el campo. Existe un campo finito de orden $ q $ si y solo si $ q $ es la potencia de un número primo. Si $ q $ es la potencia de un primo, existe esencialmente un solo campo finito de orden $ q $ al cual denotaremos como $ GF(q) $.\n"
      ]
    },
    {
      "cell_type": "markdown",
      "id": "4fc26de6-83f2-45f4-ae8a-5769d461cc3b",
      "metadata": {
        "id": "4fc26de6-83f2-45f4-ae8a-5769d461cc3b"
      },
      "source": [
        "### El campo finito $ GF(p) $\n",
        "\n",
        "Sea $ p $ un número primo. El campo $ GF(p) $, denominado un **campo primo**, está compuesto por el conjunto de enteros $ \\{ 0, 1, \\dots, p-1 \\} $ con las siguientes operaciones aritméticas:\n",
        "\n",
        "- **Adición**: Si $ a, b \\in GF(p) $, entonces $ a + b = r $, donde $ r $ es el residuo de la división de $ a + b $ entre $ p $, $ 0 \\leq r \\leq p - 1 $. Esta operación es conocida como la **suma módulo $ p $**.\n",
        "\n",
        "- **Multiplicación**: Si $ a, b \\in GF(p) $, entonces $ a \\cdot b = s $, donde $ s $ es el residuo de la división de $ a \\cdot b $ entre $ p $. A esta operación se le conoce como **multiplicación módulo $ p $**.\n",
        "\n",
        "- **Inversión**: Si $ a \\in GF(p) $ diferente de cero, el **inverso** de $ a $ módulo $ p $, denotado como $ a^{-1} $, es el entero único $ c \\in GF(p) $ tal que $ a \\cdot c = 1 $.\n"
      ]
    },
    {
      "cell_type": "markdown",
      "id": "09cab28c-78ee-486c-be34-1dbd5db28fb6",
      "metadata": {
        "id": "09cab28c-78ee-486c-be34-1dbd5db28fb6"
      },
      "source": [
        "### Ejemplo 1:\n",
        " El campo finito $ GF(23) $. Los elementos de $ GF(23) $ son\n",
        "$$\n",
        "\\{ 0, 1, 2, \\dots, 22 \\}\n",
        "$$\n",
        "\n",
        "Ejemplos de operaciones aritméticas sobre $ GF(23) $ son:\n",
        "\n",
        "-  $ 12 + 20 = 9 $\n",
        "- $ 8 \\cdot 9 = 3 $\n",
        "- $ 8^{-1} = 3 $\n",
        "\n",
        "El elemento 5 es un generador de $ GF(23) $. Las potencias de 5 son:\n",
        "\n",
        "$$\n",
        "5^0 = 1 \\quad 5^1 = 5 \\quad 5^2 = 25 \\quad 5^3 = 10 \\quad 5^4 = 4 \\quad 5^5 = 20\n",
        "$$\n",
        "$$\n",
        "5^6 = 8 \\quad 5^7 = 17 \\quad 5^8 = 16 \\quad 5^9 = 5 \\quad 5^{11} = 22\n",
        "$$\n",
        "$$\n",
        "5^{12} = 18 \\quad 5^{13} = 21 \\quad 5^{14} = 13 \\quad 5^{15} = 19 \\quad 5^{16} = 3\n",
        "$$\n",
        "$$\n",
        "5^{17} = 15 \\quad 5^{19} = 7 \\quad 5^{20} = 12 \\quad 5^{21} = 14 \\quad 5^{22} = 1\n",
        "$$\n"
      ]
    },
    {
      "cell_type": "markdown",
      "id": "403f0c9e-a557-4aaa-8158-58a09e788273",
      "metadata": {
        "id": "403f0c9e-a557-4aaa-8158-58a09e788273"
      },
      "source": [
        "### El campo finito $ GF(2^m) $\n",
        "\n",
        "El campo $ GF(2^m) $, denominado un campo finito de característica dos o campo finito binario, puede ser visto como un espacio vectorial de dimensión $ m $ sobre el campo $ GF(2) $. Esto es, existen $ m $ elementos $ \\alpha_0, \\alpha_1, \\dots, \\alpha_{m-1} $ en $ GF(2^m) $ tales que cada elemento $ \\alpha \\in GF(2^m) $ puede ser escrito en forma única como:\n",
        "\n",
        "$$\n",
        "\\alpha = a_0 \\alpha_0 + a_1 \\alpha_1 + \\cdots + a_{m-1} \\alpha_{m-1},\n",
        "$$\n",
        "\n",
        "donde $ a_i \\in \\{ 0, 1 \\} $.\n"
      ]
    },
    {
      "cell_type": "markdown",
      "id": "e4cd4d36-b508-4ee3-8ba2-3d4a50ec85bc",
      "metadata": {
        "id": "e4cd4d36-b508-4ee3-8ba2-3d4a50ec85bc"
      },
      "source": [
        "Al conjunto $ \\{ \\alpha_0, \\alpha_1, \\dots, \\alpha_{m-1} \\} $ se le denomina una **base** de $ GF(2^m) $ sobre $ GF(2) $. Dada una base tal, un elemento $ \\alpha $ del campo puede ser representado por la cadena de bits $ (a_0 a_1 \\dots a_{m-1}) $. La adición de elementos en el campo se realiza mediante el **XOR** bit a bit de sus representaciones vectoriales.\n"
      ]
    },
    {
      "cell_type": "markdown",
      "id": "2064aae1-3e1b-400d-a329-946a7a10b705",
      "metadata": {
        "id": "2064aae1-3e1b-400d-a329-946a7a10b705"
      },
      "source": [
        "### Curvas elípticas sobre $ GF(p) $\n",
        "\n",
        "Sea $ GF(p) $ un campo finito de característica $ p \\neq 2, 3 $, y sean $ a, b \\in GF(p) $ tales que satisfacen la desigualdad $ 4a^3 + 27b^2 \\neq 0 $. Una **curva elíptica** $ E_{a,b} $ sobre $ GF(p) $ se define como el conjunto de puntos $ (x, y) \\in GF(p) \\times GF(p) $ que satisfacen la ecuación\n",
        "\n",
        "$$\n",
        "y^2 = x^3 + ax + b\n",
        "$$\n",
        "\n",
        "junto con un punto especial $ \\mathcal{O} $, denominado el **punto al infinito**. Estos puntos forman un grupo abeliano bajo la operación aditiva que describiremos a continuación.\n"
      ]
    },
    {
      "cell_type": "markdown",
      "id": "83d895dd-8002-4c22-915b-ea78bab6cb6e",
      "metadata": {
        "id": "83d895dd-8002-4c22-915b-ea78bab6cb6e"
      },
      "source": [
        "![Curva Elíptica](https://upload.wikimedia.org/wikipedia/commons/thumb/d/d0/ECClines-3.svg/335px-ECClines-3.svg.png)\n"
      ]
    },
    {
      "cell_type": "markdown",
      "id": "TKVsdnzgFaKF",
      "metadata": {
        "id": "TKVsdnzgFaKF"
      },
      "source": [
        "### Aritmética de puntos en curvas elípticas sobre GF(p)\n",
        "\n",
        "Sea $ E(a,b) $ una curva elíptica sobre $ GF(p) $ y sean $ P $ y $ Q $ dos puntos sobre $ E(a,b) $ . Se tiene que $ P + O = O + P = P $ . Sean $ P = (x_1, y_1) $ y $ Q = (x_2, y_2) $ . Entonces $ -P = (x_1, -y_1) $ y $ P + (-P) = O $ . Si $ Q \\neq -P $ , entonces $ P + Q = (x_3, y_3) $ donde:\n",
        "\n",
        "$$\n",
        "x_3 = \\lambda^2 - x_1 - x_2\n",
        "$$\n",
        "$$\n",
        "y_3 = \\lambda(x_1 - x_3) - y_1\n",
        "$$\n",
        "\n",
        "y\n",
        "\n",
        "$$\n",
        "\\lambda =\n",
        "\\begin{cases}\n",
        "\\frac{y_2 - y_1}{x_2 - x_1} & \\text{si } P \\neq Q \\\\\n",
        "\\frac{3x_1^2 + a}{2y_1} & \\text{si } P = Q\n",
        "\\end{cases}\n",
        "$$\n"
      ]
    },
    {
      "cell_type": "markdown",
      "id": "b-kYkADQGl0F",
      "metadata": {
        "id": "b-kYkADQGl0F"
      },
      "source": [
        "![swappy-20250206-021530.png](data:image/png;base64,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)"
      ]
    },
    {
      "cell_type": "markdown",
      "id": "5FF0EwXjJwDO",
      "metadata": {
        "id": "5FF0EwXjJwDO"
      },
      "source": [
        "![2](https://universo.math.org.mx/2014-3/olimpiada/suminf.jpg)"
      ]
    },
    {
      "cell_type": "markdown",
      "id": "49329c76-1a23-49d7-a4d3-1682bac136eb",
      "metadata": {
        "id": "49329c76-1a23-49d7-a4d3-1682bac136eb"
      },
      "source": []
    },
    {
      "cell_type": "code",
      "execution_count": null,
      "id": "33c78c4e-c159-4e93-868e-593e3a6a3c2e",
      "metadata": {
        "id": "33c78c4e-c159-4e93-868e-593e3a6a3c2e"
      },
      "outputs": [],
      "source": [
        "def add_points(P, Q, p, a, b):\n",
        "    # Desempaquetamos las coordenadas de P y Q\n",
        "    x1, y1 = P\n",
        "    x2, y2 = Q\n",
        "\n",
        "    # Verificamos si P y Q son iguales (caso de duplicación del punto)\n",
        "    if x1 == x2 and y1 == y2:\n",
        "        # Fórmula de la derivada para calcular la pendiente (beta) cuando los puntos son iguales\n",
        "        beta = (3 * x1**2 + a) * pow(2 * y1, -1, p) % p\n",
        "    else:\n",
        "        # Fórmula de la pendiente cuando los puntos son diferentes\n",
        "        beta = (y2 - y1) * pow(x2 - x1, -1, p) % p\n",
        "\n",
        "    # Calculamos las nuevas coordenadas del punto resultante (x3, y3)\n",
        "    x3 = (beta**2 - x1 - x2) % p\n",
        "    y3 = (beta * (x1 - x3) - y1) % p\n",
        "\n",
        "    return x3, y3\n",
        "\n",
        "def is_on_curve(P, mod, a, b):\n",
        "    # Verificamos si el punto P está sobre la curva elíptica\n",
        "    x, y = P1\n",
        "    assert (y**2 % mod == (x**3 + a*x + b) % mod), \"El punto no está sobre la curva\"\n",
        "    return True\n"
      ]
    },
    {
      "cell_type": "markdown",
      "id": "Y0yCnIeNLPdT",
      "metadata": {
        "id": "Y0yCnIeNLPdT"
      },
      "source": [
        "# Protocolo ECDH\n",
        "\n",
        "A y B desean acordar una clave a través de un canal inseguro.\n",
        "\n",
        "Siguen el siguiente protocolo:\n",
        "\n",
        "1. Establecen los parámetros de dominio. Esto es $(\\rho, a, b, G, n, h)$ en el caso primo o $(m, f(x), a, b, G, n, h)$ en el caso binario.\n",
        "2. A selecciona al azar un entero $k_A$ en el intervalo $[1, n-1]$. Calcula $Q_A = k_A G$.\n",
        "3. B selecciona al azar un entero $k_B$ en el intervalo $[1, n-1]$. Calcula $Q_B = k_B G$.\n",
        "4. A y B intercambian $Q_A$ y $Q_B$.\n",
        "5. A calcula $k_A Q_B$.\n",
        "6. B calcula $k_B Q_A$.\n",
        "7. Ambas partes comparten el punto $k_A Q_B = k_A k_B G = k_B k_A G = k_B Q_A$.\n"
      ]
    },
    {
      "cell_type": "markdown",
      "id": "I2wri6DNJcaA",
      "metadata": {
        "id": "I2wri6DNJcaA"
      },
      "source": []
    },
    {
      "cell_type": "markdown",
      "id": "d5fd456e-4454-4cf8-8996-68dae57f82f7",
      "metadata": {
        "id": "d5fd456e-4454-4cf8-8996-68dae57f82f7"
      },
      "source": [
        "![!DHEC](https://i0.wp.com/sefiks.com/wp-content/uploads/2016/04/ecdh.png?resize=334%2C257&ssl=1)"
      ]
    },
    {
      "cell_type": "markdown",
      "id": "fxhjBxZvI_b5",
      "metadata": {
        "id": "fxhjBxZvI_b5"
      },
      "source": [
        "###**Curva** **secp256k1**"
      ]
    },
    {
      "cell_type": "code",
      "execution_count": null,
      "id": "cc98f561-b73d-476c-8dcc-cab5177cddd5",
      "metadata": {
        "id": "cc98f561-b73d-476c-8dcc-cab5177cddd5"
      },
      "outputs": [],
      "source": [
        "\n",
        "# y^2 = x^3 + a*x + b = y^2 = x^3 + 7\n",
        "a = 0; b = 7\n",
        "\n",
        "#base point\n",
        "G = (55066263022277343669578718895168534326250603453777594175500187360389116729240,\n",
        "     32670510020758816978083085130507043184471273380659243275938904335757337482424)\n",
        "\n",
        "P1 = (3441641438892359589923750308532785224089551896647546423970081695051607104119,\n",
        " 4069236990256117999617708243952512478982953190562608787139299693752)\n",
        "P2= (89565891926547004231252920425935692360644145829622209833684329913297188986597,12158399299693830322967808612713398636155367887041628176798871954788371653930)\n",
        "#finite field\n",
        "mod = pow(2, 256) - pow(2, 32) - pow(2, 9) - pow(2, 8) - pow(2, 7) - pow(2, 6) - pow(2, 4) - pow(2, 0)\n",
        "order = 115792089237316195423570985008687907852837564279074904382605163141518161494337"
      ]
    },
    {
      "cell_type": "code",
      "execution_count": null,
      "id": "d5d903fc-acfb-45b5-a197-e800f1615a10",
      "metadata": {
        "id": "d5d903fc-acfb-45b5-a197-e800f1615a10",
        "outputId": "b7a438db-2839-46d2-8c82-d1d89167c3d2"
      },
      "outputs": [
        {
          "data": {
            "text/plain": [
              "True"
            ]
          },
          "execution_count": 60,
          "metadata": {},
          "output_type": "execute_result"
        }
      ],
      "source": [
        "is_on_curve(G,mod,a,b)"
      ]
    },
    {
      "cell_type": "code",
      "execution_count": null,
      "id": "1366369d-361c-477b-b597-bc3415be077f",
      "metadata": {
        "id": "1366369d-361c-477b-b597-bc3415be077f",
        "outputId": "ae96edd3-8b77-4c27-ab2b-9c8d326a351b"
      },
      "outputs": [
        {
          "name": "stdout",
          "output_type": "stream",
          "text": [
            "2G = (89565891926547004231252920425935692360644145829622209833684329913297188986597, 12158399299693830322967808612713398636155367887041628176798871954788371653930)\n",
            "3G = (112711660439710606056748659173929673102114977341539408544630613555209775888121, 25583027980570883691656905877401976406448868254816295069919888960541586679410)\n",
            "4G = (103388573995635080359749164254216598308788835304023601477803095234286494993683, 37057141145242123013015316630864329550140216928701153669873286428255828810018)\n",
            "5G = (21505829891763648114329055987619236494102133314575206970830385799158076338148, 98003708678762621233683240503080860129026887322874138805529884920309963580118)\n",
            "6G = (115780575977492633039504758427830329241728645270042306223540962614150928364886, 78735063515800386211891312544505775871260717697865196436804966483607426560663)\n",
            "7G = (41948375291644419605210209193538855353224492619856392092318293986323063962044, 48361766907851246668144012348516735800090617714386977531302791340517493990618)\n",
            "8G = (21262057306151627953595685090280431278183829487175876377991189246716355947009, 41749993296225487051377864631615517161996906063147759678534462689479575333124)\n",
            "9G = (78173298682877769088723994436027545680738210601369041078747105985693655485630, 92362876758821804597230797234617159328445543067760556585160674174871431781431)\n",
            "10G = (72488970228380509287422715226575535698893157273063074627791787432852706183111, 62070622898698443831883535403436258712770888294397026493185421712108624767191)\n"
          ]
        }
      ],
      "source": [
        "tmp_point = G\n",
        "for i in range(2,11):\n",
        "    tmp_point = add_points(tmp_point,G,mod,0,7)\n",
        "    print(f\"{i}G = {tmp_point}\")"
      ]
    },
    {
      "cell_type": "code",
      "execution_count": 2,
      "id": "cE3hG6Ynywck",
      "metadata": {
        "colab": {
          "base_uri": "https://localhost:8080/"
        },
        "id": "cE3hG6Ynywck",
        "outputId": "29b74e2b-5fda-4c2c-c2db-a49be32ed8e2"
      },
      "outputs": [
        {
          "name": "stdout",
          "output_type": "stream",
          "text": [
            "Collecting tinyec\n",
            "  Downloading tinyec-0.4.0.tar.gz (24 kB)\n",
            "  Preparing metadata (setup.py) ... \u001b[?25l\u001b[?25hdone\n",
            "Building wheels for collected packages: tinyec\n",
            "  Building wheel for tinyec (setup.py) ... \u001b[?25l\u001b[?25hdone\n",
            "  Created wheel for tinyec: filename=tinyec-0.4.0-py3-none-any.whl size=20877 sha256=571e4bbb016d88d2818e6a6d56beece24966cbaf6676775561970e10ae6eb174\n",
            "  Stored in directory: /root/.cache/pip/wheels/db/86/a7/922d884ea8657b29b0231d6566159462328473186637fcc02e\n",
            "Successfully built tinyec\n",
            "Installing collected packages: tinyec\n",
            "Successfully installed tinyec-0.4.0\n"
          ]
        }
      ],
      "source": [
        "!pip install tinyec"
      ]
    },
    {
      "cell_type": "markdown",
      "id": "6sIkCDtWJOX8",
      "metadata": {
        "id": "6sIkCDtWJOX8"
      },
      "source": [
        "La curva elíptica utilizada para los cálculos de ECDH es una curva de 256 bits llamada `brainpoolP256r1`. Las claves privadas son de 256 bits (64 dígitos hexadecimales) y se generan aleatoriamente. Las claves públicas tendrán 257 bits (65 dígitos hexadecimales), debido a la compresión de la clave."
      ]
    },
    {
      "cell_type": "code",
      "execution_count": 3,
      "id": "ab490e27-99b0-4f2b-a1ec-3725eb958be0",
      "metadata": {
        "colab": {
          "base_uri": "https://localhost:8080/"
        },
        "id": "ab490e27-99b0-4f2b-a1ec-3725eb958be0",
        "outputId": "69f5b18b-5fb7-4a32-c574-37471543f8c6"
      },
      "outputs": [
        {
          "name": "stdout",
          "output_type": "stream",
          "text": [
            "Alice public key: 0xa1231537190546d7ddcc7615afcb512fd788755cb241db6b957f67c3ad8fa84d0\n",
            "Bob public key: 0x42edb2803368e6890fa1423716dfe400a7bd3533dabac31c3634880112c8188a1\n",
            "Now exchange the public keys (e.g. through Internet)\n",
            "Alice shared key: 0x220286d2515fc521ca963e24962bd2308cb8c1254514886933dfe0ab26c062400\n",
            "Bob shared key: 0x220286d2515fc521ca963e24962bd2308cb8c1254514886933dfe0ab26c062400\n",
            "Equal shared keys: True\n"
          ]
        }
      ],
      "source": [
        "# Importación de las librerías necesarias.\n",
        "# `registry` es para obtener la curva elíptica y `secrets` se usa para generar claves aleatorias seguras.\n",
        "from tinyec import registry\n",
        "import secrets\n",
        "\n",
        "# Función para comprimir una clave pública en formato hexadecimal\n",
        "# Este es un método para representar la clave pública de forma compacta, concatenando la coordenada x y el bit de la coordenada y.\n",
        "def compress(pubKey):\n",
        "    # Devuelve la coordenada x de la clave pública como un número hexadecimal y luego el bit menos significativo de y\n",
        "    return hex(pubKey.x) + hex(pubKey.y % 2)[2:]\n",
        "\n",
        "# Se obtiene la curva elíptica \"brainpoolP256r1\" de la biblioteca `tinyec`\n",
        "# Esta curva se usará para la generación de claves y operaciones criptográficas.\n",
        "curve = registry.get_curve('brainpoolP256r1')\n",
        "\n",
        "# Alice genera su clave privada de forma aleatoria, un número entre 1 y el orden de la curva.\n",
        "# El campo `.n` es el orden del grupo, que es la cantidad de elementos en el grupo de puntos de la curva.\n",
        "alicePrivKey = secrets.randbelow(curve.field.n)\n",
        "\n",
        "# La clave pública de Alice se calcula multiplicando su clave privada por el generador `curve.g`\n",
        "# `curve.g` es un punto base en la curva elíptica.\n",
        "alicePubKey = alicePrivKey * curve.g\n",
        "\n",
        "# Se imprime la clave pública comprimida de Alice (en formato hexadecimal).\n",
        "print(\"Alice public key:\", compress(alicePubKey))\n",
        "\n",
        "# Bob hace lo mismo que Alice: genera su propia clave privada aleatoria.\n",
        "bobPrivKey = secrets.randbelow(curve.field.n)\n",
        "\n",
        "# La clave pública de Bob se calcula de la misma manera multiplicando su clave privada por el generador `curve.g`.\n",
        "bobPubKey = bobPrivKey * curve.g\n",
        "\n",
        "# Se imprime la clave pública comprimida de Bob.\n",
        "print(\"Bob public key:\", compress(bobPubKey))\n",
        "\n",
        "# Simulamos un intercambio de claves, por ejemplo, a través de Internet.\n",
        "print(\"Now exchange the public keys (e.g. through Internet)\")\n",
        "\n",
        "# Alice calcula la clave compartida usando su clave privada y la clave pública de Bob.\n",
        "# Esto se hace multiplicando la clave privada de Alice por la clave pública de Bob.\n",
        "# La clave compartida de Alice será el mismo valor que la clave de Bob, pero calculada desde el lado de Alice.\n",
        "aliceSharedKey = alicePrivKey * bobPubKey\n",
        "\n",
        "# Se imprime la clave compartida de Alice (comprimida).\n",
        "print(\"Alice shared key:\", compress(aliceSharedKey))\n",
        "\n",
        "# Bob hace lo mismo: calcula la clave compartida usando su clave privada y la clave pública de Alice.\n",
        "bobSharedKey = bobPrivKey * alicePubKey\n",
        "\n",
        "# Se imprime la clave compartida de Bob (comprimida).\n",
        "print(\"Bob shared key:\", compress(bobSharedKey))\n",
        "\n",
        "# Finalmente, verificamos si las claves compartidas de Alice y Bob son iguales.\n",
        "# De acuerdo con el protocolo ECDH, ambos deberían calcular la misma clave compartida, ya que:\n",
        "#   AliceSharedKey == BobSharedKey\n",
        "print(\"Equal shared keys:\", aliceSharedKey == bobSharedKey)\n"
      ]
    },
    {
      "cell_type": "markdown",
      "id": "pFECq59i53oH",
      "metadata": {
        "id": "pFECq59i53oH"
      },
      "source": [
        "Debido a la aleatorización, si ejecutas el código anterior, las claves serán diferentes, pero el secreto compartido calculado para Alice y Bob al final siempre será el mismo. El secreto compartido generado es un entero de 257 bits (punto EC comprimido para una curva de 256 bits, codificado como 65 dígitos hexadecimales).\n"
      ]
    },
    {
      "cell_type": "markdown",
      "id": "uWxq5UMxMhCE",
      "metadata": {
        "id": "uWxq5UMxMhCE"
      },
      "source": []
    },
    {
      "cell_type": "code",
      "execution_count": null,
      "id": "42FbXt2v3YVk",
      "metadata": {
        "id": "42FbXt2v3YVk"
      },
      "outputs": [],
      "source": []
    },
    {
      "cell_type": "code",
      "execution_count": null,
      "id": "47a3a50f-7eff-4a05-bbe6-ae8ee2cb789b",
      "metadata": {
        "id": "47a3a50f-7eff-4a05-bbe6-ae8ee2cb789b"
      },
      "outputs": [],
      "source": []
    },
    {
      "cell_type": "code",
      "execution_count": null,
      "id": "6eed38c8-3eab-4886-a771-05a0a03e766d",
      "metadata": {
        "id": "6eed38c8-3eab-4886-a771-05a0a03e766d"
      },
      "outputs": [],
      "source": []
    },
    {
      "cell_type": "code",
      "execution_count": null,
      "id": "1ff1fee5-5d6c-4731-ac1d-110bdfeffc66",
      "metadata": {
        "id": "1ff1fee5-5d6c-4731-ac1d-110bdfeffc66"
      },
      "outputs": [],
      "source": []
    }
  ],
  "metadata": {
    "colab": {
      "provenance": []
    },
    "kernelspec": {
      "display_name": "Python 3 (ipykernel)",
      "language": "python",
      "name": "python3"
    },
    "language_info": {
      "codemirror_mode": {
        "name": "ipython",
        "version": 3
      },
      "file_extension": ".py",
      "mimetype": "text/x-python",
      "name": "python",
      "nbconvert_exporter": "python",
      "pygments_lexer": "ipython3",
      "version": "3.13.1"
    }
  },
  "nbformat": 4,
  "nbformat_minor": 5
}
